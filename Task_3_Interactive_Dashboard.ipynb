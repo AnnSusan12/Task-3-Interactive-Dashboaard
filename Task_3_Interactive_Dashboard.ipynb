{
  "nbformat": 4,
  "nbformat_minor": 0,
  "metadata": {
    "colab": {
      "provenance": [],
      "authorship_tag": "ABX9TyNlA9NlntM0O1+ZLDD41ZdQ",
      "include_colab_link": true
    },
    "kernelspec": {
      "name": "python3",
      "display_name": "Python 3"
    },
    "language_info": {
      "name": "python"
    }
  },
  "cells": [
    {
      "cell_type": "markdown",
      "metadata": {
        "id": "view-in-github",
        "colab_type": "text"
      },
      "source": [
        "<a href=\"https://colab.research.google.com/github/AnnSusan12/Task-3-Interactive-Dashboaard/blob/main/Task_3_Interactive_Dashboard.ipynb\" target=\"_parent\"><img src=\"https://colab.research.google.com/assets/colab-badge.svg\" alt=\"Open In Colab\"/></a>"
      ]
    },
    {
      "cell_type": "code",
      "execution_count": 1,
      "metadata": {
        "colab": {
          "base_uri": "https://localhost:8080/"
        },
        "id": "SW_Eej9P2r5T",
        "outputId": "2aa19440-8edc-4de8-a91d-935d98bda6db"
      },
      "outputs": [
        {
          "output_type": "stream",
          "name": "stdout",
          "text": [
            "Collecting dash\n",
            "  Downloading dash-3.1.1-py3-none-any.whl.metadata (10 kB)\n",
            "Requirement already satisfied: Flask<3.2,>=1.0.4 in /usr/local/lib/python3.11/dist-packages (from dash) (3.1.1)\n",
            "Requirement already satisfied: Werkzeug<3.2 in /usr/local/lib/python3.11/dist-packages (from dash) (3.1.3)\n",
            "Requirement already satisfied: plotly>=5.0.0 in /usr/local/lib/python3.11/dist-packages (from dash) (5.24.1)\n",
            "Requirement already satisfied: importlib-metadata in /usr/local/lib/python3.11/dist-packages (from dash) (8.7.0)\n",
            "Requirement already satisfied: typing-extensions>=4.1.1 in /usr/local/lib/python3.11/dist-packages (from dash) (4.14.1)\n",
            "Requirement already satisfied: requests in /usr/local/lib/python3.11/dist-packages (from dash) (2.32.3)\n",
            "Collecting retrying (from dash)\n",
            "  Downloading retrying-1.4.0-py3-none-any.whl.metadata (7.5 kB)\n",
            "Requirement already satisfied: nest-asyncio in /usr/local/lib/python3.11/dist-packages (from dash) (1.6.0)\n",
            "Requirement already satisfied: setuptools in /usr/local/lib/python3.11/dist-packages (from dash) (75.2.0)\n",
            "Requirement already satisfied: blinker>=1.9.0 in /usr/local/lib/python3.11/dist-packages (from Flask<3.2,>=1.0.4->dash) (1.9.0)\n",
            "Requirement already satisfied: click>=8.1.3 in /usr/local/lib/python3.11/dist-packages (from Flask<3.2,>=1.0.4->dash) (8.2.1)\n",
            "Requirement already satisfied: itsdangerous>=2.2.0 in /usr/local/lib/python3.11/dist-packages (from Flask<3.2,>=1.0.4->dash) (2.2.0)\n",
            "Requirement already satisfied: jinja2>=3.1.2 in /usr/local/lib/python3.11/dist-packages (from Flask<3.2,>=1.0.4->dash) (3.1.6)\n",
            "Requirement already satisfied: markupsafe>=2.1.1 in /usr/local/lib/python3.11/dist-packages (from Flask<3.2,>=1.0.4->dash) (3.0.2)\n",
            "Requirement already satisfied: tenacity>=6.2.0 in /usr/local/lib/python3.11/dist-packages (from plotly>=5.0.0->dash) (8.5.0)\n",
            "Requirement already satisfied: packaging in /usr/local/lib/python3.11/dist-packages (from plotly>=5.0.0->dash) (24.2)\n",
            "Requirement already satisfied: zipp>=3.20 in /usr/local/lib/python3.11/dist-packages (from importlib-metadata->dash) (3.23.0)\n",
            "Requirement already satisfied: charset-normalizer<4,>=2 in /usr/local/lib/python3.11/dist-packages (from requests->dash) (3.4.2)\n",
            "Requirement already satisfied: idna<4,>=2.5 in /usr/local/lib/python3.11/dist-packages (from requests->dash) (3.10)\n",
            "Requirement already satisfied: urllib3<3,>=1.21.1 in /usr/local/lib/python3.11/dist-packages (from requests->dash) (2.4.0)\n",
            "Requirement already satisfied: certifi>=2017.4.17 in /usr/local/lib/python3.11/dist-packages (from requests->dash) (2025.7.9)\n",
            "Downloading dash-3.1.1-py3-none-any.whl (7.9 MB)\n",
            "\u001b[2K   \u001b[90m━━━━━━━━━━━━━━━━━━━━━━━━━━━━━━━━━━━━━━━━\u001b[0m \u001b[32m7.9/7.9 MB\u001b[0m \u001b[31m10.6 MB/s\u001b[0m eta \u001b[36m0:00:00\u001b[0m\n",
            "\u001b[?25hDownloading retrying-1.4.0-py3-none-any.whl (11 kB)\n",
            "Installing collected packages: retrying, dash\n",
            "Successfully installed dash-3.1.1 retrying-1.4.0\n"
          ]
        }
      ],
      "source": [
        "!pip install dash\n"
      ]
    },
    {
      "cell_type": "code",
      "source": [
        "import dash\n",
        "from dash import dcc, html\n",
        "import plotly.express as px\n",
        "import pandas as pd\n",
        "\n",
        "# Load dataset\n",
        "url = \"https://raw.githubusercontent.com/mwaskom/seaborn-data/master/iris.csv\"\n",
        "df = pd.read_csv(url)\n",
        "\n",
        "# Create Dash app\n",
        "app = dash.Dash(__name__)\n",
        "\n",
        "# Layout\n",
        "app.layout = html.Div([\n",
        "    html.H1(\"Iris Dataset Dashboard\"),\n",
        "    html.Label(\"Select Species:\"),\n",
        "    dcc.Dropdown(\n",
        "        id='species-dropdown',\n",
        "        options=[{'label': s, 'value': s} for s in df['species'].unique()],\n",
        "        value='setosa'\n",
        "    ),\n",
        "    html.Label(\"Select Sepal Width Range:\"),\n",
        "    dcc.RangeSlider(\n",
        "        id='sepal-width-slider',\n",
        "        min=df['sepal_width'].min(),\n",
        "        max=df['sepal_width'].max(),\n",
        "        step=0.1,\n",
        "        value=[df['sepal_width'].min(), df['sepal_width'].max()],\n",
        "        marks={i: str(i) for i in range(int(df['sepal_width'].min()), int(df['sepal_width'].max()) + 1)}\n",
        "    ),\n",
        "    html.Label(\"Select X-axis variable for Scatter Plot:\"),\n",
        "    dcc.Dropdown(\n",
        "        id='scatter-xaxis-dropdown',\n",
        "        options=[{'label': col.replace('_', ' ').title(), 'value': col} for col in df.columns if df[col].dtype in ['int64', 'float64']],\n",
        "        value='sepal_width'\n",
        "    ),\n",
        "    dcc.Graph(id='scatter-plot'),\n",
        "    html.Label(\"Select Feature for Histogram:\"),\n",
        "    dcc.Dropdown(\n",
        "        id='histogram-feature-dropdown',\n",
        "        options=[{'label': col.replace('_', ' ').title(), 'value': col} for col in df.columns if df[col].dtype in ['int64', 'float64']],\n",
        "        value='sepal_length'\n",
        "    ),\n",
        "    dcc.Graph(id='histogram-plot')\n",
        "])\n",
        "\n",
        "# Callback for Scatter Plot\n",
        "@app.callback(\n",
        "    dash.dependencies.Output('scatter-plot', 'figure'),\n",
        "    [dash.dependencies.Input('species-dropdown', 'value'),\n",
        "     dash.dependencies.Input('sepal-width-slider', 'value'),\n",
        "     dash.dependencies.Input('scatter-xaxis-dropdown', 'value')]\n",
        ")\n",
        "def update_scatter_plot(selected_species, sepal_width_range, selected_xaxis):\n",
        "    filtered_df = df[\n",
        "        (df['species'] == selected_species) &\n",
        "        (df['sepal_width'] >= sepal_width_range[0]) &\n",
        "        (df['sepal_width'] <= sepal_width_range[1])\n",
        "    ]\n",
        "    fig = px.scatter(filtered_df, x=selected_xaxis, y='sepal_length', color='species')\n",
        "    return fig\n",
        "\n",
        "# Callback for Histogram\n",
        "@app.callback(\n",
        "    dash.dependencies.Output('histogram-plot', 'figure'),\n",
        "    [dash.dependencies.Input('species-dropdown', 'value'),\n",
        "     dash.dependencies.Input('sepal-width-slider', 'value'),\n",
        "     dash.dependencies.Input('histogram-feature-dropdown', 'value')]\n",
        ")\n",
        "def update_histogram(selected_species, sepal_width_range, selected_feature):\n",
        "    filtered_df = df[\n",
        "        (df['species'] == selected_species) &\n",
        "        (df['sepal_width'] >= sepal_width_range[0]) &\n",
        "        (df['sepal_width'] <= sepal_width_range[1])\n",
        "    ]\n",
        "    fig = px.histogram(filtered_df, x=selected_feature, color='species')\n",
        "    return fig\n",
        "\n",
        "\n",
        "# Run app (this will not render in Colab directly)\n",
        "app.run(mode='inline')  # Only works if using Colab extensions"
      ],
      "metadata": {
        "colab": {
          "base_uri": "https://localhost:8080/",
          "height": 671
        },
        "id": "whjxlhaJ3McA",
        "outputId": "472dbcab-beb2-4905-a6ad-c35931f1f4a2"
      },
      "execution_count": 7,
      "outputs": [
        {
          "output_type": "display_data",
          "data": {
            "text/plain": [
              "<IPython.core.display.Javascript object>"
            ],
            "application/javascript": [
              "(async (port, path, width, height, cache, element) => {\n",
              "    if (!google.colab.kernel.accessAllowed && !cache) {\n",
              "      return;\n",
              "    }\n",
              "    element.appendChild(document.createTextNode(''));\n",
              "    const url = await google.colab.kernel.proxyPort(port, {cache});\n",
              "    const iframe = document.createElement('iframe');\n",
              "    iframe.src = new URL(path, url).toString();\n",
              "    iframe.height = height;\n",
              "    iframe.width = width;\n",
              "    iframe.style.border = 0;\n",
              "    iframe.allow = [\n",
              "        'accelerometer',\n",
              "        'autoplay',\n",
              "        'camera',\n",
              "        'clipboard-read',\n",
              "        'clipboard-write',\n",
              "        'gyroscope',\n",
              "        'magnetometer',\n",
              "        'microphone',\n",
              "        'serial',\n",
              "        'usb',\n",
              "        'xr-spatial-tracking',\n",
              "    ].join('; ');\n",
              "    element.appendChild(iframe);\n",
              "  })(8050, \"/\", \"100%\", 650, false, window.element)"
            ]
          },
          "metadata": {}
        }
      ]
    }
  ]
}